{
  "nbformat": 4,
  "nbformat_minor": 0,
  "metadata": {
    "colab": {
      "name": "Untitled3.ipynb",
      "provenance": [],
      "authorship_tag": "ABX9TyNN0QlOCw2dfpGulT1AyJ/M",
      "include_colab_link": true
    },
    "kernelspec": {
      "name": "python3",
      "display_name": "Python 3"
    }
  },
  "cells": [
    {
      "cell_type": "markdown",
      "metadata": {
        "id": "view-in-github",
        "colab_type": "text"
      },
      "source": [
        "<a href=\"https://colab.research.google.com/github/jacobqurdx/family/blob/Agatha/Family%20task.ipynb\" target=\"_parent\"><img src=\"https://colab.research.google.com/assets/colab-badge.svg\" alt=\"Open In Colab\"/></a>"
      ]
    },
    {
      "cell_type": "markdown",
      "metadata": {
        "id": "QV72brUzbIc2",
        "colab_type": "text"
      },
      "source": [
        "# Introduction\n",
        "Hi Family!\n",
        "\n",
        "This is a fun little coding task that I put together for us. It's quite literally a \"family\" coding task because we're going to use it to understand some new things about our family.\n",
        "\n",
        "* First, it should be a way for everyone to learn about out family members.  You should definitely talk to your parents, grandparents and great-grandparents to learn about the distant family members the rest of us don't know well or at all.\n",
        "\n",
        "* Second, it will be a way for everyone to answer those questions about esoteric relatives that we often don't know the answer to like \"who are my second cousins?\" and \"what's a first cousin twice removed vs a second consin once removed?\n",
        "\n",
        "* Finally, for anyone who really gets into learning how to build up the code base, we should be able to make some interesting visualizations and outputs--like family trees or other sorts of ways of looking at our family. \n",
        "\n",
        "---"
      ]
    },
    {
      "cell_type": "markdown",
      "metadata": {
        "id": "FDUdGqN7eJsS",
        "colab_type": "text"
      },
      "source": [
        "#Overview\n",
        "Ok. Now I want to review a few housekeeping items.\n",
        "\n",
        "This webpage is called a \"Notebook\" ... it's a way to combine code and text into a single, easy to read format.\n",
        "\n",
        "All of these notebooks are going to live in a github repository. Once we get going, I may teach a little bit more about github, but here's the general idea:\n",
        "\n",
        ">When you edit the notebook, make sure to save it to \"github\". I've included a screenshot below that shows you how to do this.\n",
        "\n",
        "\n"
      ]
    },
    {
      "cell_type": "markdown",
      "metadata": {
        "id": "tXkCRzVZZR1V",
        "colab_type": "text"
      },
      "source": [
        "![picture](https://drive.google.com/uc?id=1w_T2CpK313nYtjbPrvxdW2kF8lvyIC2_)"
      ]
    },
    {
      "cell_type": "markdown",
      "metadata": {
        "id": "VpHFSXcOepVR",
        "colab_type": "text"
      },
      "source": [
        ">Within github, all of the kiddoodles have a \"branch\". Think of this like your own special copy of the code. You can make any changes within your own branch that you'd like to.\n",
        "\n",
        ">When you save your file to github, make sure it's saving to your \"branch\" like this (I'll be committing all of my code under \"Cecilia\")\n"
      ]
    },
    {
      "cell_type": "markdown",
      "metadata": {
        "id": "BR0S6TWkfjL6",
        "colab_type": "text"
      },
      "source": [
        "![picture](https://drive.google.com/uc?id=1SXqixOLKNeKOim37r5eb2ShvnIt0XhKB)"
      ]
    },
    {
      "cell_type": "markdown",
      "metadata": {
        "id": "bKLD33VagBVL",
        "colab_type": "text"
      },
      "source": [
        "Well that's that! Now, on to the fun\n",
        "\n",
        "---"
      ]
    },
    {
      "cell_type": "markdown",
      "metadata": {
        "id": "0F-ncVYdgVwC",
        "colab_type": "text"
      },
      "source": [
        "# Family!\n",
        "\n",
        "\n",
        "Families are collections of relationships ... mothers, fathers, brothers, sisters, aunts, uncles and so on\n",
        "\n",
        "To begin, we are going to set up a very simple data structure called a \"dictionary\". \"Dictionary\" is a python term that means a map from one word to another.\n",
        "\n",
        "To create a dictionary, all you have to do is name it and tell python that it's a dictionary by using curly braces, {}\n",
        "\n",
        "To make a  dictionary called \"my_dictionary\" all you have to write is\n",
        "\n",
        "```\n",
        "my_dictionary = {}\n",
        "```\n",
        "In our case, we are going to make a dictionary called \"family_dictionary\"\n"
      ]
    },
    {
      "cell_type": "markdown",
      "metadata": {
        "id": "P7IRpb0tjRPZ",
        "colab_type": "text"
      },
      "source": [
        "(A quick tip here is that as much as possible, you should try to copy-and-paste snippets of code ... there are lots of fiddly brackets & parentheses and things like that. Over time, you'll learn how to use them, but for now, it's easiest if you just copy bits of code and add the pieces you need to customize to your family)"
      ]
    },
    {
      "cell_type": "code",
      "metadata": {
        "id": "STzfhaGbhYu_",
        "colab_type": "code",
        "colab": {}
      },
      "source": [
        "family_dictionary = {}"
      ],
      "execution_count": 0,
      "outputs": []
    },
    {
      "cell_type": "markdown",
      "metadata": {
        "id": "x4vdzdlNhkyC",
        "colab_type": "text"
      },
      "source": [
        "Now, within family dictionary, we need to start telling it about who's in our family. For example,"
      ]
    },
    {
      "cell_type": "code",
      "metadata": {
        "id": "aB8ykU0yhco0",
        "colab_type": "code",
        "colab": {}
      },
      "source": [
        "family_dictionary['Cecilia Aptekar'] = {}"
      ],
      "execution_count": 0,
      "outputs": []
    },
    {
      "cell_type": "markdown",
      "metadata": {
        "colab_type": "text",
        "id": "XUHGnIReyi-t"
      },
      "source": [
        "This tells the dictionary that \"Cecilia Aptekar\" is in our family.\n",
        "\n",
        "Next we have to tell the dictionary what sorts of family members she has. For example,"
      ]
    },
    {
      "cell_type": "code",
      "metadata": {
        "id": "gpDSHe2fhy0L",
        "colab_type": "code",
        "colab": {}
      },
      "source": [
        "family_dictionary['Cecilia Aptekar']['Mother'] = 'Tessa Harrison'\n",
        "family_dictionary['Cecilia Aptekar']['Father'] = 'Jacob Aptekar'"
      ],
      "execution_count": 0,
      "outputs": []
    },
    {
      "cell_type": "markdown",
      "metadata": {
        "id": "xJpNVD3Fh30T",
        "colab_type": "text"
      },
      "source": [
        "In some cases, you may have multiple family members that fit a particular description. For example, many \"cousins\". In that case, you just add multiple people in a list separated by commas"
      ]
    },
    {
      "cell_type": "code",
      "metadata": {
        "id": "mElmF9H3yGfM",
        "colab_type": "code",
        "colab": {}
      },
      "source": [
        "family_dictionary['Cecilia Aptekar']['Grandmother'] = ['Josephine Harrison','Harriet Moyer']\n",
        "family_dictionary['Cecilia Aptekar']['Grandfather'] = ['Jeph Harrison','Don Aptekar']\n",
        "family_dictionary['Cecilia Aptekar']['Uncle'] = ['Noah Aptekar','Tommy Harrison','Marc Harrison','Kit Harrison','Randy Bly']\n",
        "family_dictionary['Cecilia Aptekar']['Aunt'] = ['Emmy Harrison','Christi Harrison','Janet Harrison','Ellie Bly']\n",
        "family_dictionary['Cecilia Aptekar']['Cousin'] = ['Lydia Bly','Emmett Bly','Rosie Harrison','Isla Harrison','Jimmy Harrison','Alistair Harrison','Agatha Harrison','Isa Harrison','Olivia Harrison']"
      ],
      "execution_count": 0,
      "outputs": []
    },
    {
      "cell_type": "markdown",
      "metadata": {
        "id": "jBQfs5OS0LVm",
        "colab_type": "text"
      },
      "source": [
        "We can take a look at Cecilia's family by asking python to display it"
      ]
    },
    {
      "cell_type": "code",
      "metadata": {
        "id": "2fUsjKxVyQ4V",
        "colab_type": "code",
        "colab": {
          "base_uri": "https://localhost:8080/",
          "height": 355
        },
        "outputId": "8264825a-05d9-46d6-ad5b-b7ac096346db"
      },
      "source": [
        "display(family_dictionary['Cecilia Aptekar'])"
      ],
      "execution_count": 59,
      "outputs": [
        {
          "output_type": "display_data",
          "data": {
            "text/plain": [
              "{'Aunt': ['Emmy Harrison', 'Christi Harrison', 'Janet Harrison', 'Ellie Bly'],\n",
              " 'Cousin': ['Lydia Bly',\n",
              "  'Emmett Bly',\n",
              "  'Rosie Harrison',\n",
              "  'Isla Harrison',\n",
              "  'Jimmy Harrison',\n",
              "  'Alistair Harrison',\n",
              "  'Agatha Harrison',\n",
              "  'Isa Harrison',\n",
              "  'Olivia Harrison'],\n",
              " 'Father': 'Jacob Aptekar',\n",
              " 'Grandfather': ['Jeph Harrison', 'Don Aptekar'],\n",
              " 'Grandmother': ['Josephine Harrison', 'Harriet Moyer'],\n",
              " 'Mother': 'Tessa Harrison',\n",
              " 'Uncle': ['Noah Aptekar',\n",
              "  'Tommy Harrison',\n",
              "  'Marc Harrison',\n",
              "  'Kit Harrison',\n",
              "  'Randy Bly']}"
            ]
          },
          "metadata": {
            "tags": []
          }
        }
      ]
    },
    {
      "cell_type": "markdown",
      "metadata": {
        "id": "Fw1yQ83ZzFei",
        "colab_type": "text"
      },
      "source": [
        "Now let's add in one other family member, Jacob, and then we can start to see how this dictionary thing gets smarter ..."
      ]
    },
    {
      "cell_type": "code",
      "metadata": {
        "id": "a_dzR2XsyU8x",
        "colab_type": "code",
        "colab": {}
      },
      "source": [
        "family_dictionary['Jacob Aptekar'] = {}"
      ],
      "execution_count": 0,
      "outputs": []
    },
    {
      "cell_type": "markdown",
      "metadata": {
        "id": "0W-90dzy0FBS",
        "colab_type": "text"
      },
      "source": [
        "I'm just going to add a few of Jacob's family members"
      ]
    },
    {
      "cell_type": "code",
      "metadata": {
        "id": "sIDSrwG9y2DM",
        "colab_type": "code",
        "colab": {}
      },
      "source": [
        "family_dictionary['Jacob Aptekar']['Mother'] = 'Harriet Moyer'\n",
        "family_dictionary['Jacob Aptekar']['Father'] = 'Don Aptekar'\n",
        "family_dictionary['Jacob Aptekar']['Brother'] = 'Noah Aptekar'\n",
        "family_dictionary['Jacob Aptekar']['Child'] = 'Cecilia Aptekar'\n",
        "family_dictionary['Jacob Aptekar']['Spouse'] = 'Tessa Harrison'"
      ],
      "execution_count": 0,
      "outputs": []
    },
    {
      "cell_type": "markdown",
      "metadata": {
        "id": "Kb9Krf7E0Y0p",
        "colab_type": "text"
      },
      "source": [
        "Now, let's ask the dictionary to tell us who his daughter's father is\n",
        "\n",
        "Remember, to ask it, you need to turn the command into a sentence in your head ... the way that I think of it is like this\n",
        "\n",
        "Who is **'Jacob Aptekar'**'s **'Child'**'s **'Mother'**?\n",
        "\n",
        "```\n",
        "family_dictionary[family_dictionary['Jacob Aptekar']['Child']]['Father']\n",
        "```\n",
        "\n",
        "Let's test it out ...\n"
      ]
    },
    {
      "cell_type": "code",
      "metadata": {
        "id": "VhJA16_rzDHo",
        "colab_type": "code",
        "colab": {
          "base_uri": "https://localhost:8080/",
          "height": 35
        },
        "outputId": "ba50b5c1-8549-4909-b1ed-28f8656d1224"
      },
      "source": [
        "family_dictionary[family_dictionary['Jacob Aptekar']['Child']]['Mother']"
      ],
      "execution_count": 62,
      "outputs": [
        {
          "output_type": "execute_result",
          "data": {
            "text/plain": [
              "'Tessa Harrison'"
            ]
          },
          "metadata": {
            "tags": []
          },
          "execution_count": 62
        }
      ]
    },
    {
      "cell_type": "markdown",
      "metadata": {
        "id": "n4EkSAD-2C3J",
        "colab_type": "text"
      },
      "source": [
        "Whoa! It got it right.\n",
        "\n",
        "Now, how about, who is **'Cecilia Aptekar'**'s **'Father'**'s **'Brother'**?"
      ]
    },
    {
      "cell_type": "code",
      "metadata": {
        "id": "h1FfnVu40vCT",
        "colab_type": "code",
        "colab": {
          "base_uri": "https://localhost:8080/",
          "height": 35
        },
        "outputId": "289651d1-8e45-4d1c-ddf8-0528c659640c"
      },
      "source": [
        "family_dictionary[family_dictionary['Cecilia Aptekar']['Father']]['Brother']"
      ],
      "execution_count": 63,
      "outputs": [
        {
          "output_type": "execute_result",
          "data": {
            "text/plain": [
              "'Noah Aptekar'"
            ]
          },
          "metadata": {
            "tags": []
          },
          "execution_count": 63
        }
      ]
    },
    {
      "cell_type": "markdown",
      "metadata": {
        "id": "yWmw0scIQHKq",
        "colab_type": "text"
      },
      "source": [
        "Cool, right?\n",
        "\n",
        "Now on to your first mission, should you choose to accept it ...\n",
        "\n",
        "![picture](https://www.theworkprint.com/wp-content/uploads/2015/07/what-s-your-favorite-mission-impossible-movie-so-far-404453-1024x614.jpg)"
      ]
    },
    {
      "cell_type": "markdown",
      "metadata": {
        "id": "rOTj2FbLQcxb",
        "colab_type": "text"
      },
      "source": [
        "# Mission 1\n",
        "First, type Ctrl + F9 ... this will execute all the code to this point and make sure you are ready to start\n",
        "\n",
        "Start with yourself and your immediate family and update the family_dictionary.\n",
        "\n",
        "So, if I was Cecilia, I'd first insert myself\n",
        "```\n",
        "family_dictionary['Cecilia Aptekar'] = {}\n",
        "```\n",
        "\n",
        "And then I'd start to add in my parents, brothers, sisters, uncles, aunts and so on.\n",
        "\n",
        "```\n",
        "family_dictionary['Cecilia Aptekar']['Mother'] = 'Tessa Harrison'\n",
        "family_dictionary['Cecilia Aptekar']['Father'] = 'Jacob Aptekar'\n",
        "family_dictionary['Cecilia Aptekar']['Grandmother'] = ['Josephine Harrison','Harriet Moyer']\n",
        "family_dictionary['Cecilia Aptekar']['Grandfather'] = ['Jeph Harrison','Don Aptekar']\n",
        "family_dictionary['Cecilia Aptekar']['Uncle'] = ['Noah Aptekar','Tommy Harrison','Marc Harrison','Kit Harrison','Randy Bly']\n",
        "family_dictionary['Cecilia Aptekar']['Aunt'] = ['Emmy Harrison','Christi Harrison','Janet Harrison','Ellie Bly']\n",
        "family_dictionary['Cecilia Aptekar']['Cousin'] = ['Lydia Bly','Emmett Bly','Rosie Harrison','Isla Harrison','Jimmy Harrison','Alistair Harrison','Agatha Harrison','Isa Harrison','Olivia Harrison']\n",
        "```\n",
        " "
      ]
    },
    {
      "cell_type": "code",
      "metadata": {
        "id": "G6H6L7pN2M-U",
        "colab_type": "code",
        "colab": {}
      },
      "source": [
        "# In this cell, start by inserting yourself and then add all of your family members\n",
        "\n",
        "\n",
        "\n",
        "# Whenever you are done typing in a cell, type Shift+Enter to execute the code and see the output"
      ],
      "execution_count": 0,
      "outputs": []
    },
    {
      "cell_type": "markdown",
      "metadata": {
        "id": "yRekasKmSWep",
        "colab_type": "text"
      },
      "source": [
        "Once you're done adding yourself, add your mother and father.\n",
        "\n",
        "Remember that you first need to insert them into the dictionary:\n",
        "\n",
        "```\n",
        "family_dictionary['Jacob Aptekar'] = {}\n",
        "```\n",
        "\n",
        "And then you need to add all of their relationships\n",
        "```\n",
        "family_dictionary['Jacob Aptekar']['Mother'] = 'Harriet Moyer'\n",
        "family_dictionary['Jacob Aptekar']['Father'] = 'Don Aptekar'\n",
        "family_dictionary['Jacob Aptekar']['Brother'] = 'Noah Aptekar' # if you have more than one brother, you need to change this to [BROTHER_1,BROTHER_2,...]\n",
        "family_dictionary['Jacob Aptekar']['Child'] = 'Cecilia Aptekar' # if you have more than one child, you need to change this to [CHILD_1,CHILD_2,...]\n",
        "family_dictionary['Jacob Aptekar']['Spouse'] = 'Tessa Harrison'\n",
        "```"
      ]
    },
    {
      "cell_type": "markdown",
      "metadata": {
        "id": "qae2ViU2R23B",
        "colab_type": "text"
      },
      "source": [
        "Next, check to see who `your` **'Mother'**'s **'Child'**ren are. Make sure these are your sisters and brothers. \n",
        "\n",
        "Check to see who your **Father**'s **Brother** is. Are these your uncles?"
      ]
    },
    {
      "cell_type": "code",
      "metadata": {
        "id": "kUk7GzgDRbdZ",
        "colab_type": "code",
        "colab": {}
      },
      "source": [
        "# hint ... "
      ],
      "execution_count": 0,
      "outputs": []
    }
  ]
}