{
  "nbformat": 4,
  "nbformat_minor": 0,
  "metadata": {
    "colab": {
      "name": "Untitled3.ipynb",
      "provenance": [],
      "authorship_tag": "ABX9TyNgp3n6gqQTKd8OISbIGeLw",
      "include_colab_link": true
    },
    "kernelspec": {
      "name": "python3",
      "display_name": "Python 3"
    }
  },
  "cells": [
    {
      "cell_type": "markdown",
      "metadata": {
        "id": "view-in-github",
        "colab_type": "text"
      },
      "source": [
        "<a href=\"https://colab.research.google.com/github/jacobqurdx/family/blob/master/Family%20task.ipynb\" target=\"_parent\"><img src=\"https://colab.research.google.com/assets/colab-badge.svg\" alt=\"Open In Colab\"/></a>"
      ]
    },
    {
      "cell_type": "markdown",
      "metadata": {
        "id": "QV72brUzbIc2",
        "colab_type": "text"
      },
      "source": [
        "Hi Family!\n",
        "\n",
        "This is a fun little coding task that I put together for us. It's quite literally a \"family\" coding task because we're going to use it to understand some new things about our family.\n",
        "\n",
        "First, it should be a way for everyone to share about their family members.  Grandparents and great-grandparents especially may be able to share about some people the rest of us don't know well or at all.\n",
        "\n",
        "Second, it will be a way for everyone to answer those questions about esoteric relatives that we often don't know the answer to like \"who are my second cousins?\" and \"what's a first cousin twice removed vs a second consin once removed?\n",
        "\n",
        "Finally, for anyone who really gets into learning how to build up the code base, we should be able to make some interesting visualizations and outputs--like family trees or other sorts of ways of looking at our family. "
      ]
    },
    {
      "cell_type": "code",
      "metadata": {
        "id": "ckrDY7bPYj9M",
        "colab_type": "code",
        "colab": {}
      },
      "source": [
        ""
      ],
      "execution_count": 0,
      "outputs": []
    },
    {
      "cell_type": "markdown",
      "metadata": {
        "id": "tXkCRzVZZR1V",
        "colab_type": "text"
      },
      "source": [
        "![picture](https://drive.google.com/uc?id=1w_T2CpK313nYtjbPrvxdW2kF8lvyIC2_)"
      ]
    },
    {
      "cell_type": "code",
      "metadata": {
        "id": "_xm2rhaqZ_Mf",
        "colab_type": "code",
        "colab": {}
      },
      "source": [
        ""
      ],
      "execution_count": 0,
      "outputs": []
    }
  ]
}